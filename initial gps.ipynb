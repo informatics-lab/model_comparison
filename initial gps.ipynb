{
 "cells": [
  {
   "cell_type": "code",
   "execution_count": null,
   "metadata": {
    "collapsed": false
   },
   "outputs": [],
   "source": [
    "import iris\n",
    "import numpy as np\n",
    "from iris import quickplot as qplt\n",
    "from matplotlib import pyplot as plt\n",
    "%matplotlib inline"
   ]
  },
  {
   "cell_type": "code",
   "execution_count": 934,
   "metadata": {
    "collapsed": false
   },
   "outputs": [
    {
     "name": "stdout",
     "output_type": "stream",
     "text": [
      "Fetching package metadata .......\n",
      "Solving package specifications: ..........\n",
      "\n",
      "Package plan for installation in environment /opt/conda:\n",
      "\n",
      "The following packages will be downloaded:\n",
      "\n",
      "    package                    |            build\n",
      "    ---------------------------|-----------------\n",
      "    conda-env-2.6.0            |                0          502 B\n",
      "    conda-4.3.18               |           py35_0         514 KB\n",
      "    ------------------------------------------------------------\n",
      "                                           Total:         514 KB\n",
      "\n",
      "The following packages will be UPDATED:\n",
      "\n",
      "    conda:     4.2.13-py35_0 conda-forge --> 4.3.18-py35_0\n",
      "\n",
      "The following packages will be SUPERCEDED by a higher-priority channel:\n",
      "\n",
      "    conda-env: 2.6.0-0       conda-forge --> 2.6.0-0      \n",
      "\n",
      "Pruning fetched packages from the cache ...\n",
      "Fetching packages ...\n",
      "conda-env-2.6. 100% |################################| Time: 0:00:00 743.48 kB/s\n",
      "conda-4.3.18-p 100% |################################| Time: 0:00:00  23.68 MB/s\n",
      "Extracting packages ...\n",
      "[      COMPLETE      ]|###################################################| 100%\n",
      "Unlinking packages ...\n",
      "[      COMPLETE      ]|###################################################| 100%\n",
      "Linking packages ...\n",
      "[      COMPLETE      ]|###################################################| 100%\n"
     ]
    }
   ],
   "source": [
    "!conda install --update-deps iris -y"
   ]
  },
  {
   "cell_type": "code",
   "execution_count": null,
   "metadata": {
    "collapsed": true
   },
   "outputs": [],
   "source": [
    "from mogreps_utils import list_files, unrotate, get_uk_from_global, get_info, get_ground_level"
   ]
  },
  {
   "cell_type": "code",
   "execution_count": 877,
   "metadata": {
    "collapsed": false
   },
   "outputs": [],
   "source": [
    "g_files = list_files('mogreps-g', 'prods_op_mogreps-g_20160207', 2000)\n",
    "uk_files = list_files('mogreps-uk', 'prods_op_mogreps-uk_20160207', 2000)"
   ]
  },
  {
   "cell_type": "code",
   "execution_count": 878,
   "metadata": {
    "collapsed": false
   },
   "outputs": [
    {
     "data": {
      "text/plain": [
       "2000"
      ]
     },
     "execution_count": 878,
     "metadata": {},
     "output_type": "execute_result"
    }
   ],
   "source": [
    "len(g_files)"
   ]
  },
  {
   "cell_type": "code",
   "execution_count": 879,
   "metadata": {
    "collapsed": true
   },
   "outputs": [],
   "source": [
    "variable = 'relative_humidity'"
   ]
  },
  {
   "cell_type": "code",
   "execution_count": 880,
   "metadata": {
    "collapsed": true
   },
   "outputs": [],
   "source": [
    "def blitz(cube):\n",
    "    cube.var_name = cube.standard_name\n",
    "    for c in cube.aux_coords:\n",
    "        c.var_name = c.standard_name"
   ]
  },
  {
   "cell_type": "code",
   "execution_count": 881,
   "metadata": {
    "collapsed": true
   },
   "outputs": [],
   "source": [
    "def get_uk_global_pairs(param, uk_files, g_files, blat, blon, uk_path='../data/mogreps-uk/', g_path='../data/mogreps-gg/'):\n",
    "    '''Return two CubeLists of matching UK and global cubes, each containing one timestep, for the given param.'''\n",
    "    uks = iris.cube.CubeList([])\n",
    "    gs = iris.cube.CubeList([])\n",
    "    \n",
    "    stash = iris.load(uk_path + uk_files[0], param)[0].attributes['STASH'].__str__()\n",
    "    stash_const = iris.AttributeConstraint(STASH=stash)\n",
    "    \n",
    "    for fname in uk_files:\n",
    "        info = get_info(fname)\n",
    "        uk_fname = fname\n",
    "        g_fname = 'prods_op_mogreps-g_{}_{:02d}_{:02d}_{:03d}.nc'.format(info[0], info[1]-3, info[2], info[3]+3)\n",
    "\n",
    "        if g_fname in g_files:\n",
    "            try:\n",
    "                g_cube = iris.load(g_path + g_fname, stash_const)[0]\n",
    "                uk_cube = iris.load(uk_path + uk_fname, stash_const)[0]\n",
    "                \n",
    "                time_constraint = iris.Constraint(time=uk_cube.coord('time').points[-1])\n",
    "                g_cube = g_cube.extract(time_constraint)\n",
    "                uk_cube = uk_cube.extract(time_constraint)\n",
    "                \n",
    "                uk_cube, uk_h = get_ground_level(uk_cube)\n",
    "                if uk_h: uk_cube.remove_coord(uk_h)\n",
    "                g_cube, g_h = get_ground_level(g_cube)\n",
    "                if g_h: g_cube.remove_coord(g_h)\n",
    "                    \n",
    "                uk_unrotate = unrotate(uk_cube, g_cube)\n",
    "                uk_unrotate = uk_unrotate.intersection(latitude=blat, longitude=blon)\n",
    "                g_cube = g_cube.intersection(latitude=blat, longitude=blon)\n",
    "\n",
    "                blitz(uk_unrotate)\n",
    "                blitz(g_cube)\n",
    "                \n",
    "                uks.append(uk_unrotate)\n",
    "                gs.append(g_cube)\n",
    "            except (IndexError, AttributeError):\n",
    "                pass\n",
    "    return (uks, gs)"
   ]
  },
  {
   "cell_type": "code",
   "execution_count": null,
   "metadata": {
    "collapsed": false
   },
   "outputs": [
    {
     "name": "stderr",
     "output_type": "stream",
     "text": [
      " /opt/conda/lib/python3.5/site-packages/iris/fileformats/cf.py:1140: IrisDeprecation:NetCDF default loading behaviour currently does not expose variables which define reference surfaces for dimensionless vertical coordinates as independent Cubes. This behaviour is deprecated in favour of automatic promotion to Cubes. To switch to the new behaviour, set iris.FUTURE.netcdf_promote to True.\n"
     ]
    },
    {
     "name": "stdout",
     "output_type": "stream",
     "text": [
      "CPU times: user 5min, sys: 4.05 s, total: 5min 4s\n",
      "Wall time: 53min 23s\n"
     ]
    }
   ],
   "source": [
    "%%time \n",
    "uks, gs = get_uk_global_pairs(variable, uk_files, g_files, blat=(57, 58), blon=(0,1))"
   ]
  },
  {
   "cell_type": "code",
   "execution_count": 885,
   "metadata": {
    "collapsed": false
   },
   "outputs": [],
   "source": [
    "scheme=iris.analysis.Nearest()"
   ]
  },
  {
   "cell_type": "code",
   "execution_count": 886,
   "metadata": {
    "collapsed": false
   },
   "outputs": [
    {
     "name": "stdout",
     "output_type": "stream",
     "text": [
      "CPU times: user 5.78 s, sys: 316 ms, total: 6.1 s\n",
      "Wall time: 3min 45s\n"
     ]
    }
   ],
   "source": [
    "%%time\n",
    "uks_regrid = iris.cube.CubeList([uks[i].regrid(grid=gs[i], scheme=scheme) for i in range(len(uks))])"
   ]
  },
  {
   "cell_type": "code",
   "execution_count": 887,
   "metadata": {
    "collapsed": false
   },
   "outputs": [
    {
     "name": "stdout",
     "output_type": "stream",
     "text": [
      "relative_humidity / (%)             (latitude: 3; longitude: 2)\n",
      "     Dimension coordinates:\n",
      "          latitude                           x             -\n",
      "          longitude                          -             x\n",
      "     Scalar coordinates:\n",
      "          forecast_period: 3.0 hours\n",
      "          forecast_reference_time: 2016-02-07 03:00:00\n",
      "          time: 2016-02-07 06:00:00\n",
      "     Attributes:\n",
      "          Conventions: CF-1.5\n",
      "          STASH: m01s16i256\n",
      "          source: Data from Met Office Unified Model\n",
      "          um_version: 10.1\n"
     ]
    }
   ],
   "source": [
    "print(uks_regrid[0])"
   ]
  },
  {
   "cell_type": "code",
   "execution_count": 937,
   "metadata": {
    "collapsed": false
   },
   "outputs": [],
   "source": [
    "for c in uks_regrid + gs:\n",
    "    try:\n",
    "        c.coord('realization')\n",
    "    except iris.exceptions.CoordinateNotFoundError:\n",
    "        c.add_aux_coord(iris.coords.DimCoord(0, standard_name='realization', var_name='realization'))"
   ]
  },
  {
   "cell_type": "code",
   "execution_count": 977,
   "metadata": {
    "collapsed": true
   },
   "outputs": [],
   "source": [
    "from jade_utils.iris_tools.padded_orthogonal_merge import _flatten, _get_missing_points_in_coord_space"
   ]
  },
  {
   "cell_type": "code",
   "execution_count": 1192,
   "metadata": {
    "collapsed": false
   },
   "outputs": [],
   "source": [
    "def _make_masked_cube_for_point(template_cube, coord_names, point):\n",
    "        c = template_cube.copy()\n",
    "        constraints = {}\n",
    "        for name in coord_names:\n",
    "            constraints[name] = c.coord(name).points[0]\n",
    "        constraint = iris.Constraint(**constraints)\n",
    "        new_cube = c.extract(constraint)\n",
    "        for i, coord_name in enumerate(coord_names):\n",
    "            new_cube.coord(coord_name).points = (point[i],)\n",
    "        lazy_data = new_cube.lazy_data()\n",
    "        data = np.ma.masked_all(lazy_data.shape, dtype=lazy_data.dtype)\n",
    "        new_cube.data = data\n",
    "        return new_cube"
   ]
  },
  {
   "cell_type": "code",
   "execution_count": 1195,
   "metadata": {
    "collapsed": false
   },
   "outputs": [],
   "source": [
    "def padded_orthogonal_merge(cube_list, orthogonal_coords):\n",
    "    # TODO: should we always use the first cube as a template?\n",
    "    # TODO: check that all cubes have the required orthogonal_coords as scalar coords and filter those that don't?\n",
    "    cubes = _flatten(cube_list)\n",
    "    missing_cubes = []\n",
    "    for point in _get_missing_points_in_coord_space(cubes, orthogonal_coords):\n",
    "        missing_cubes.append(_make_masked_cube_for_point(cubes[0], orthogonal_coords, point))\n",
    "    cubes += missing_cubes\n",
    "    return cubes.merge_cube()"
   ]
  },
  {
   "cell_type": "code",
   "execution_count": 1200,
   "metadata": {
    "collapsed": false
   },
   "outputs": [],
   "source": [
    "uks_regrid_c = padded_orthogonal_merge(uks_regrid, ['time', 'realization'])\n",
    "gs_c = padded_orthogonal_merge(gs, ['time', 'realization'])\n",
    "\n",
    "uks_regrid_c.remove_coord('forecast_period')\n",
    "gs_c.remove_coord('forecast_period')\n",
    "\n",
    "uks_regrid_c.remove_coord('forecast_reference_time')\n",
    "gs_c.remove_coord('forecast_reference_time')"
   ]
  },
  {
   "cell_type": "code",
   "execution_count": 1201,
   "metadata": {
    "collapsed": false
   },
   "outputs": [],
   "source": [
    "diff = uks_regrid_c - gs_c"
   ]
  },
  {
   "cell_type": "code",
   "execution_count": 1202,
   "metadata": {
    "collapsed": false
   },
   "outputs": [
    {
     "name": "stderr",
     "output_type": "stream",
     "text": [
      " /opt/conda/lib/python3.5/site-packages/iris/cube.py:3254: UserWarning:Collapsing spatial coordinate 'latitude' without weighting\n",
      " /opt/conda/lib/python3.5/site-packages/iris/coords.py:992: UserWarning:Collapsing a non-contiguous coordinate. Metadata may not be fully descriptive for 'latitude'.\n",
      " /opt/conda/lib/python3.5/site-packages/iris/coords.py:992: UserWarning:Collapsing a non-contiguous coordinate. Metadata may not be fully descriptive for 'longitude'.\n"
     ]
    },
    {
     "data": {
      "text/plain": [
       "masked_array(data = [23.34545815927943 5.3587448001685365 21.021008836399837 13.614005502912555\n",
       " 21.39837902739364 15.929123615775811 8.275056646331794 15.724102385615954\n",
       " 17.301026583221393 10.64581294844754 5.86079843821073 13.530925227049332\n",
       " 25.145721140318617 2.907873650395881 22.105865077696762 21.61476154545006\n",
       " 30.639622359509154 9.655255477372586 14.325458107858191 19.315769680065387\n",
       " 20.487610585424548 11.750775683616238 10.76537176165629 21.205099622496473\n",
       " 22.188820383247055 17.64508312061276 22.789228998220484 22.293672028178758\n",
       " 24.69406558264556 13.815940370938684 7.379412521784283 24.108154740668144\n",
       " 16.410584744812315 17.824301645973865 13.987066198218029\n",
       " 14.527900599650774 21.51483257739491 8.042044464355234 23.51656109709354\n",
       " 9.96987650374868 24.96022878167052 16.428348212769293 10.24822139040071\n",
       " 18.273315585848124 20.891772204227514 14.491017332586878 18.96824374667653\n",
       " 6.016470449247355 11.503283045867095 11.273932876330248 20.881922504884457\n",
       " 22.52394559130349 26.83776490321055 20.708165659951632 9.671020930249988\n",
       " 15.686296434574139 16.306791785428956 7.180884636774683 9.092121131323903\n",
       " 12.38015465035339 20.8960721987012 21.555101387683923 17.745891543302825\n",
       " 14.677345780714804 23.6621731356188 16.142997062710094 5.499763252480358\n",
       " 13.842962261259931 15.26783451683091 11.391928794838329 10.490571163351085\n",
       " 16.264496738807097 18.136347022852572 23.1297855408706 20.62178005168322\n",
       " 11.607177197751398 26.46528779993396 13.698483036453343 9.411733589868907\n",
       " 19.387966091539017 20.069540561092406 12.683240253710144\n",
       " 12.420371371259396 15.775937637216158 18.296814955068 13.581352105000445\n",
       " 28.019989144656474 15.99698864890931 29.025267368851804 11.962071134771492\n",
       " 14.487961956971956 21.544225347719824 17.967418428922947\n",
       " 14.784475951709167 13.098286306485543 10.953737946472884\n",
       " 20.752760860505603 24.08891947901912 22.237063186641052 14.068193291961837\n",
       " 25.433839826760988 19.332076108547334 9.612275138245542 13.154827219187132\n",
       " 23.69846382152227 9.075780499035147 12.197058217728841 6.724876083121036\n",
       " 16.235329916573917 23.44941363872453 10.2777824699689 13.160764763746318\n",
       " 22.194159798619697 24.807120533561864 7.362984562435716 18.003616534833586\n",
       " 12.87864026207736 12.132192883673861 9.329612353504656 10.5009920166303\n",
       " 22.243971561601434 8.363175732539245 14.907178080821781 18.48655198155315\n",
       " 27.81458325531171 11.94823906132894 13.467360233789941 17.598088201089723\n",
       " 24.90058357749874 11.904787202354074 5.317522135982761 9.089542984477639\n",
       " 20.6311859410295 16.833977916701684 23.760085577848127 11.782092697536093\n",
       " 23.944325615198824 13.984738705698675 6.112444614609335 14.884800692876833\n",
       " 17.30719684119875 17.587800577862676 13.065539917406143 9.308094595565732\n",
       " 9.20300562316464 11.601454650172107 27.21064627739175 21.049544729835212\n",
       " 9.099421913872698 20.46249109142547 20.181210320493665 13.848416726591287\n",
       " 10.360054496317414 10.27043187180234 16.503945235407603 13.913329190623884\n",
       " 8.255048960080934 14.490478195467993 26.793724000842687 18.6315005434345\n",
       " 9.291292967074066 23.85050008210869 20.2560433369073 15.377709788305063\n",
       " 8.79852615498755 15.459624833740307 17.724379984454558 15.35355889796673\n",
       " 20.201781583975873 12.118125198781094 26.094180385672203\n",
       " 24.803813550876942 11.27427935612738 14.340447604590311 24.75084173652821\n",
       " 16.926618583363503 11.273124382057235 13.698483036453343 22.1835970745654\n",
       " 12.892282090460167 25.64841409977103 10.549609984892017 25.17883949536462\n",
       " 23.16331285675691 10.742730099932698 20.761542974130478 21.59125498128042\n",
       " 18.92783719375601 5.673632360901318 10.210926541373869 14.06560150983005\n",
       " 13.71776524559789 34.00474844292583 20.858339159674244 23.366698615051863\n",
       " 26.806890438840533 10.202251589722731 11.30403688953641 21.255268954622366\n",
       " 10.833854154147236 5.235844010281437 10.054279768668996 5.486489086838686\n",
       " 11.927406291115153 23.07528439694731 11.249768516136973 27.659716119897784\n",
       " 22.829132064827462 11.124765915140268 17.71115173650018 25.328878446021516\n",
       " 12.75071484924146 13.342249622908424 14.653106894671405 13.35873231884922\n",
       " 16.028863938740844 19.113422421603794 12.736716937002775\n",
       " 24.575775674431927 22.45116227503601 10.90930890722842 25.524293983053347\n",
       " 17.977778528876513 10.087120500916008 7.404249905741072 15.699903794822013\n",
       " 17.795569439235898 13.63245209050815 19.56972044596788 13.975331689564056\n",
       " 22.23454519435916 22.19949792975808 9.6788267625782 16.760335741466122\n",
       " 20.889029716576115 13.248231013988246 13.704280049191444\n",
       " 15.743302147262499 17.947623449916705 14.19598681552877 19.770032035044018\n",
       " 10.638716636261474 12.110063824494624 19.229358521975367 5.957969103086499\n",
       " 9.765212491287633 5.417948566262573 14.018681731889059 8.49831478392432\n",
       " 9.72539630726344 11.68944948090656 9.338540214259043 21.157334721084318\n",
       " 13.620029674465961 25.596172809621365 17.408465972049346 10.20863094804261\n",
       " 22.601910409668175 20.92172913504044 23.251176045525096 12.752552849005044\n",
       " 15.588290209855174 13.369547175079141 18.37088956292899 8.95910849359466\n",
       " 13.713778047399387 23.978831810578264 19.886265151271285 8.849140730413698\n",
       " 8.765313979924887 17.135109546386527 8.828516768593314 6.166103577895309\n",
       " 12.9810559085153 11.804946879733654 17.607334527595786 18.291619210264937\n",
       " 9.152640784677029 23.748739001611572 21.99011378248568 9.317602069917632\n",
       " 22.781171410472584 20.988091861815356 17.08236785889669 8.593693181630352\n",
       " 9.022974149358957 16.242626532265856 14.769408135286486 27.135606605221366\n",
       " 22.321514285549714 10.046895250109193 17.72202901758148 23.99685309229803\n",
       " 19.116351530387103 14.13089847343992 12.6913479386549 14.998784672988231\n",
       " 17.24275210052038 12.434830115445887 13.08635182801787 29.03100892436683\n",
       " 13.128967654262336 8.121313266132928 14.6228630917478 18.389166874367454\n",
       " 11.045714666783676 12.756023903761443 12.632835852122303 6.726424880028518\n",
       " 9.211773490123024 17.18147621713571 12.354359891687361 25.13287604579574\n",
       " 10.937797614998491 7.335877872938362 8.017558855412288 13.046790793141431\n",
       " 13.088640112708424 4.933938588997638 6.230176896900012 9.831788367331754\n",
       " 5.716842805838435 5.198156724583565 7.487489565935968 28.84580955991124\n",
       " 21.105081832740346 10.676224558959657 24.902204554349535 20.69697039021251\n",
       " 13.144132879983626 8.789346060240584 17.3203577234036 5.731173890806897\n",
       " 19.061987698034013 18.092931400595834 14.628560820076139\n",
       " 28.802488318430637 24.30529563353084 11.268849948715559 20.9717071312757\n",
       " 23.723724500311217 9.913033297970237 18.69122733173685 24.236357846563223\n",
       " 15.73420173274344 10.817616804700254 17.030839062320645 12.131870905456696\n",
       " 26.780016259019213 15.813611621005494 8.762045280640816 11.680089005083252\n",
       " 21.055234899346686 15.470065179780809 15.874425842635485\n",
       " 12.501562402355955 7.821411584021561 16.947145162730703 22.486801684543757\n",
       " 15.116388733203884 30.08559836810075 23.354157374366274 7.137780934342736\n",
       " 7.936269589674988 17.826493041724913 10.605005696996741 7.452628171770457\n",
       " 6.335251902384519 28.181286270029148 10.650704202070397 8.439891636350158\n",
       " 18.36096402697854 31.602223352690444 19.425002681252497 9.175090826071788\n",
       " 26.189961101536596 21.145392031519933 13.512340039139533 16.59309281498379\n",
       " 12.989378673875565 18.573614798058742 13.046291778381574 16.31868497050748\n",
       " 14.555479352005783 29.982069294274314 23.766003380178727\n",
       " 10.475044749307756 18.611012644847317 19.60468693960707 10.354145707557594\n",
       " 14.618944615349859 20.9630130626937 6.695186392725249 18.322700515116942\n",
       " 17.290110371731775 11.635747719850237 26.76605826415238 19.390719429665317\n",
       " 7.574628703771558 14.0975950963276 18.02522826947461 17.775070323348935\n",
       " 11.24988425866388 6.67356414019775 12.909137590611286 14.922630325560348\n",
       " 7.913431356455512 10.535159388131408 28.408891287177447 21.74688675036805\n",
       " 9.827417005500479 18.03115070741003 14.968282438765867 16.015617378046965\n",
       " 5.793989342413394 8.089344843681719 17.161229923872007 8.61805275763228\n",
       " 10.620587318976291 13.818767431769498 -- -- -- -- -- -- -- -- -- -- -- --\n",
       " -- -- -- -- -- -- -- -- -- -- -- -- -- -- -- -- -- -- -- -- -- -- -- -- --\n",
       " -- -- -- -- -- -- -- -- -- -- --],\n",
       "             mask = [False False False False False False False False False False False False\n",
       " False False False False False False False False False False False False\n",
       " False False False False False False False False False False False False\n",
       " False False False False False False False False False False False False\n",
       " False False False False False False False False False False False False\n",
       " False False False False False False False False False False False False\n",
       " False False False False False False False False False False False False\n",
       " False False False False False False False False False False False False\n",
       " False False False False False False False False False False False False\n",
       " False False False False False False False False False False False False\n",
       " False False False False False False False False False False False False\n",
       " False False False False False False False False False False False False\n",
       " False False False False False False False False False False False False\n",
       " False False False False False False False False False False False False\n",
       " False False False False False False False False False False False False\n",
       " False False False False False False False False False False False False\n",
       " False False False False False False False False False False False False\n",
       " False False False False False False False False False False False False\n",
       " False False False False False False False False False False False False\n",
       " False False False False False False False False False False False False\n",
       " False False False False False False False False False False False False\n",
       " False False False False False False False False False False False False\n",
       " False False False False False False False False False False False False\n",
       " False False False False False False False False False False False False\n",
       " False False False False False False False False False False False False\n",
       " False False False False False False False False False False False False\n",
       " False False False False False False False False False False False False\n",
       " False False False False False False False False False False False False\n",
       " False False False False False False False False False False False False\n",
       " False False False False False False False False False False False False\n",
       " False False False False False False False False False False False False\n",
       " False False False False False False False False False False False False\n",
       " False False False False False False False False False False False False\n",
       " False False False False False False False False False False False False\n",
       " False False False False False False False False False False False False\n",
       "  True  True  True  True  True  True  True  True  True  True  True  True\n",
       "  True  True  True  True  True  True  True  True  True  True  True  True\n",
       "  True  True  True  True  True  True  True  True  True  True  True  True\n",
       "  True  True  True  True  True  True  True  True  True  True  True  True],\n",
       "       fill_value = 1e+20)"
      ]
     },
     "execution_count": 1202,
     "metadata": {},
     "output_type": "execute_result"
    }
   ],
   "source": [
    "diff.collapsed(['latitude', 'longitude'], iris.analysis.RMS).data"
   ]
  },
  {
   "cell_type": "code",
   "execution_count": 1203,
   "metadata": {
    "collapsed": false
   },
   "outputs": [
    {
     "name": "stderr",
     "output_type": "stream",
     "text": [
      " /opt/conda/lib/python3.5/site-packages/iris/cube.py:3254: UserWarning:Collapsing spatial coordinate 'latitude' without weighting\n",
      " /opt/conda/lib/python3.5/site-packages/iris/coords.py:992: UserWarning:Collapsing a non-contiguous coordinate. Metadata may not be fully descriptive for 'latitude'.\n",
      " /opt/conda/lib/python3.5/site-packages/iris/coords.py:992: UserWarning:Collapsing a non-contiguous coordinate. Metadata may not be fully descriptive for 'longitude'.\n",
      " /opt/conda/lib/python3.5/site-packages/iris/coords.py:992: UserWarning:Collapsing a non-contiguous coordinate. Metadata may not be fully descriptive for 'realization'.\n",
      " /opt/conda/lib/python3.5/site-packages/iris/coords.py:992: UserWarning:Collapsing a non-contiguous coordinate. Metadata may not be fully descriptive for 'time'.\n"
     ]
    },
    {
     "data": {
      "text/plain": [
       "array(16.98051959260731)"
      ]
     },
     "execution_count": 1203,
     "metadata": {},
     "output_type": "execute_result"
    }
   ],
   "source": [
    "diff.collapsed(diff.coords(), iris.analysis.RMS).data"
   ]
  },
  {
   "cell_type": "code",
   "execution_count": 1204,
   "metadata": {
    "collapsed": true
   },
   "outputs": [],
   "source": [
    "i = -1"
   ]
  },
  {
   "cell_type": "code",
   "execution_count": 1205,
   "metadata": {
    "collapsed": false
   },
   "outputs": [
    {
     "name": "stdout",
     "output_type": "stream",
     "text": [
      "0\n"
     ]
    },
    {
     "name": "stderr",
     "output_type": "stream",
     "text": [
      " /opt/conda/lib/python3.5/site-packages/iris/coords.py:802: UserWarning:Coordinate 'longitude' is not bounded, guessing contiguous bounds.\n",
      " /opt/conda/lib/python3.5/site-packages/iris/coords.py:802: UserWarning:Coordinate 'latitude' is not bounded, guessing contiguous bounds.\n"
     ]
    },
    {
     "data": {
      "text/plain": [
       "<matplotlib.collections.QuadMesh at 0x7f064237d630>"
      ]
     },
     "execution_count": 1205,
     "metadata": {},
     "output_type": "execute_result"
    },
    {
     "data": {
      "image/png": "[encoded data removed]",
      "text/plain": [
       "<matplotlib.figure.Figure at 0x7f064210b8d0>"
      ]
     },
     "metadata": {},
     "output_type": "display_data"
    },
    {
     "data": {
      "image/png": "[encoded data removed]",
      "text/plain": [
       "<matplotlib.figure.Figure at 0x7f06427f5f28>"
      ]
     },
     "metadata": {},
     "output_type": "display_data"
    }
   ],
   "source": [
    "i += 1\n",
    "print(i)\n",
    "plt.figure(figsize=(3,2))\n",
    "qplt.pcolormesh(gs[i], cmap='viridis')\n",
    "plt.figure(figsize=(3,2))\n",
    "qplt.pcolormesh(uks_regrid[i], cmap='viridis')"
   ]
  },
  {
   "cell_type": "code",
   "execution_count": 1206,
   "metadata": {
    "collapsed": false
   },
   "outputs": [],
   "source": [
    "import GPy"
   ]
  },
  {
   "cell_type": "code",
   "execution_count": 1213,
   "metadata": {
    "collapsed": false
   },
   "outputs": [],
   "source": [
    "samples = gs_c.shape[0]\n",
    "n = int(samples / 2)\n",
    "dims = gs[0].shape[0] * gs[0].shape[1]\n",
    "\n",
    "X = gs_c.data.reshape(samples, dims, 1)[:n, 0]\n",
    "Y = uks_regrid_c.data.reshape(samples, dims, 1)[:n, 0]\n",
    "\n",
    "X_test = gs_c.data.reshape(samples, dims, 1)[n:, 0]\n",
    "Y_test = uks_regrid_c.data.reshape(samples, dims, 1)[n:, 0]"
   ]
  },
  {
   "cell_type": "code",
   "execution_count": 1214,
   "metadata": {
    "collapsed": false
   },
   "outputs": [],
   "source": [
    "k = GPy.kern.RBF(input_dim=1, variance=1., lengthscale=1.)\n",
    "m = GPy.models.GPRegression(X, Y, k)"
   ]
  },
  {
   "cell_type": "code",
   "execution_count": 1220,
   "metadata": {
    "collapsed": false
   },
   "outputs": [
    {
     "name": "stderr",
     "output_type": "stream",
     "text": [
      " /opt/conda/lib/python3.5/site-packages/paramz/transformations.py:109: RuntimeWarning:overflow encountered in expm1\n"
     ]
    },
    {
     "name": "stdout",
     "output_type": "stream",
     "text": [
      "Optimization restart 1/3, f = 869.4396889541815\n",
      "Optimization restart 2/3, f = 869.4396890842143\n",
      "Optimization restart 3/3, f = 869.439688955477\n"
     ]
    },
    {
     "data": {
      "text/plain": [
       "[<paramz.optimization.optimization.opt_lbfgsb at 0x7f0642b0a470>,\n",
       " <paramz.optimization.optimization.opt_lbfgsb at 0x7f064468c9b0>,\n",
       " <paramz.optimization.optimization.opt_lbfgsb at 0x7f064470fb38>,\n",
       " <paramz.optimization.optimization.opt_lbfgsb at 0x7f0641ebd518>,\n",
       " <paramz.optimization.optimization.opt_lbfgsb at 0x7f0642b05390>,\n",
       " <paramz.optimization.optimization.opt_lbfgsb at 0x7f064549cbe0>,\n",
       " <paramz.optimization.optimization.opt_lbfgsb at 0x7f0644804f60>,\n",
       " <paramz.optimization.optimization.opt_lbfgsb at 0x7f06448f7ef0>,\n",
       " <paramz.optimization.optimization.opt_lbfgsb at 0x7f0643d48c88>,\n",
       " <paramz.optimization.optimization.opt_lbfgsb at 0x7f0642dc0710>,\n",
       " <paramz.optimization.optimization.opt_lbfgsb at 0x7f0642f1da90>,\n",
       " <paramz.optimization.optimization.opt_lbfgsb at 0x7f06429ded68>,\n",
       " <paramz.optimization.optimization.opt_lbfgsb at 0x7f0642ed5128>,\n",
       " <paramz.optimization.optimization.opt_lbfgsb at 0x7f0642c70128>]"
      ]
     },
     "execution_count": 1220,
     "metadata": {},
     "output_type": "execute_result"
    }
   ],
   "source": [
    "m.optimize_restarts(3)"
   ]
  },
  {
   "cell_type": "code",
   "execution_count": 1216,
   "metadata": {
    "collapsed": false
   },
   "outputs": [
    {
     "data": {
      "text/plain": [
       "869.4396894423119"
      ]
     },
     "execution_count": 1216,
     "metadata": {},
     "output_type": "execute_result"
    }
   ],
   "source": [
    "m.objective_function()"
   ]
  },
  {
   "cell_type": "code",
   "execution_count": 1217,
   "metadata": {
    "collapsed": false
   },
   "outputs": [
    {
     "data": {
      "text/plain": [
       "array([ -8.11228565e-08,  -3.14828138e-05,  -4.92982256e-05])"
      ]
     },
     "execution_count": 1217,
     "metadata": {},
     "output_type": "execute_result"
    }
   ],
   "source": [
    "m.gradient"
   ]
  },
  {
   "cell_type": "code",
   "execution_count": 1218,
   "metadata": {
    "collapsed": false
   },
   "outputs": [
    {
     "data": {
      "text/plain": [
       "<matplotlib.axes._subplots.AxesSubplot at 0x7f0641a239b0>"
      ]
     },
     "execution_count": 1218,
     "metadata": {},
     "output_type": "execute_result"
    },
    {
     "name": "stderr",
     "output_type": "stream",
     "text": [
      " /opt/conda/lib/python3.5/site-packages/matplotlib/figure.py:1744: UserWarning:This figure includes Axes that are not compatible with tight_layout, so its results might be incorrect.\n"
     ]
    },
    {
     "data": {
      "image/png": "[encoded data removed]",
      "text/plain": [
       "<matplotlib.figure.Figure at 0x7f0642b0acf8>"
      ]
     },
     "metadata": {},
     "output_type": "display_data"
    }
   ],
   "source": [
    "m.plot()"
   ]
  },
  {
   "cell_type": "code",
   "execution_count": 1254,
   "metadata": {
    "collapsed": false
   },
   "outputs": [
    {
     "ename": "TypeError",
     "evalue": "'NoneType' object is not subscriptable",
     "output_type": "error",
     "traceback": [
      "\u001b[0;31m---------------------------------------------------------------------------\u001b[0m",
      "\u001b[0;31mTypeError\u001b[0m                                 Traceback (most recent call last)",
      "\u001b[0;32m<ipython-input-1254-99538c7ac734>\u001b[0m in \u001b[0;36m<module>\u001b[0;34m()\u001b[0m\n\u001b[0;32m----> 1\u001b[0;31m \u001b[0mm\u001b[0m\u001b[0;34m.\u001b[0m\u001b[0mpredict\u001b[0m\u001b[0;34m(\u001b[0m\u001b[0mX_test\u001b[0m\u001b[0;34m)\u001b[0m\u001b[0;34m[\u001b[0m\u001b[0;36m0\u001b[0m\u001b[0;34m]\u001b[0m \u001b[0;34m-\u001b[0m \u001b[0mY_test\u001b[0m\u001b[0;34m\u001b[0m\u001b[0m\n\u001b[0m",
      "\u001b[0;32m/opt/conda/lib/python3.5/site-packages/GPy/core/gp.py\u001b[0m in \u001b[0;36mpredict\u001b[0;34m(self, Xnew, full_cov, Y_metadata, kern, likelihood, include_likelihood)\u001b[0m\n\u001b[1;32m    255\u001b[0m             \u001b[0;32mif\u001b[0m \u001b[0mlikelihood\u001b[0m \u001b[0;32mis\u001b[0m \u001b[0;32mNone\u001b[0m\u001b[0;34m:\u001b[0m\u001b[0;34m\u001b[0m\u001b[0m\n\u001b[1;32m    256\u001b[0m                 \u001b[0mlikelihood\u001b[0m \u001b[0;34m=\u001b[0m \u001b[0mself\u001b[0m\u001b[0;34m.\u001b[0m\u001b[0mlikelihood\u001b[0m\u001b[0;34m\u001b[0m\u001b[0m\n\u001b[0;32m--> 257\u001b[0;31m             \u001b[0mmu\u001b[0m\u001b[0;34m,\u001b[0m \u001b[0mvar\u001b[0m \u001b[0;34m=\u001b[0m \u001b[0mlikelihood\u001b[0m\u001b[0;34m.\u001b[0m\u001b[0mpredictive_values\u001b[0m\u001b[0;34m(\u001b[0m\u001b[0mmu\u001b[0m\u001b[0;34m,\u001b[0m \u001b[0mvar\u001b[0m\u001b[0;34m,\u001b[0m \u001b[0mfull_cov\u001b[0m\u001b[0;34m,\u001b[0m \u001b[0mY_metadata\u001b[0m\u001b[0;34m=\u001b[0m\u001b[0mY_metadata\u001b[0m\u001b[0;34m)\u001b[0m\u001b[0;34m\u001b[0m\u001b[0m\n\u001b[0m\u001b[1;32m    258\u001b[0m \u001b[0;34m\u001b[0m\u001b[0m\n\u001b[1;32m    259\u001b[0m         \u001b[0;32mif\u001b[0m \u001b[0mself\u001b[0m\u001b[0;34m.\u001b[0m\u001b[0mnormalizer\u001b[0m \u001b[0;32mis\u001b[0m \u001b[0;32mnot\u001b[0m \u001b[0;32mNone\u001b[0m\u001b[0;34m:\u001b[0m\u001b[0;34m\u001b[0m\u001b[0m\n",
      "\u001b[0;32m/opt/conda/lib/python3.5/site-packages/GPy/likelihoods/mixed_noise.py\u001b[0m in \u001b[0;36mpredictive_values\u001b[0;34m(self, mu, var, full_cov, Y_metadata)\u001b[0m\n\u001b[1;32m     42\u001b[0m \u001b[0;34m\u001b[0m\u001b[0m\n\u001b[1;32m     43\u001b[0m     \u001b[0;32mdef\u001b[0m \u001b[0mpredictive_values\u001b[0m\u001b[0;34m(\u001b[0m\u001b[0mself\u001b[0m\u001b[0;34m,\u001b[0m \u001b[0mmu\u001b[0m\u001b[0;34m,\u001b[0m \u001b[0mvar\u001b[0m\u001b[0;34m,\u001b[0m \u001b[0mfull_cov\u001b[0m\u001b[0;34m=\u001b[0m\u001b[0;32mFalse\u001b[0m\u001b[0;34m,\u001b[0m \u001b[0mY_metadata\u001b[0m\u001b[0;34m=\u001b[0m\u001b[0;32mNone\u001b[0m\u001b[0;34m)\u001b[0m\u001b[0;34m:\u001b[0m\u001b[0;34m\u001b[0m\u001b[0m\n\u001b[0;32m---> 44\u001b[0;31m         \u001b[0mind\u001b[0m \u001b[0;34m=\u001b[0m \u001b[0mY_metadata\u001b[0m\u001b[0;34m[\u001b[0m\u001b[0;34m'output_index'\u001b[0m\u001b[0;34m]\u001b[0m\u001b[0;34m.\u001b[0m\u001b[0mflatten\u001b[0m\u001b[0;34m(\u001b[0m\u001b[0;34m)\u001b[0m\u001b[0;34m\u001b[0m\u001b[0m\n\u001b[0m\u001b[1;32m     45\u001b[0m         \u001b[0m_variance\u001b[0m \u001b[0;34m=\u001b[0m \u001b[0mnp\u001b[0m\u001b[0;34m.\u001b[0m\u001b[0marray\u001b[0m\u001b[0;34m(\u001b[0m\u001b[0;34m[\u001b[0m\u001b[0mself\u001b[0m\u001b[0;34m.\u001b[0m\u001b[0mlikelihoods_list\u001b[0m\u001b[0;34m[\u001b[0m\u001b[0mj\u001b[0m\u001b[0;34m]\u001b[0m\u001b[0;34m.\u001b[0m\u001b[0mvariance\u001b[0m \u001b[0;32mfor\u001b[0m \u001b[0mj\u001b[0m \u001b[0;32min\u001b[0m \u001b[0mind\u001b[0m \u001b[0;34m]\u001b[0m\u001b[0;34m)\u001b[0m\u001b[0;34m\u001b[0m\u001b[0m\n\u001b[1;32m     46\u001b[0m         \u001b[0;32mif\u001b[0m \u001b[0mfull_cov\u001b[0m\u001b[0;34m:\u001b[0m\u001b[0;34m\u001b[0m\u001b[0m\n",
      "\u001b[0;31mTypeError\u001b[0m: 'NoneType' object is not subscriptable"
     ]
    }
   ],
   "source": [
    "m.predict(X_test)[0] - Y_test"
   ]
  },
  {
   "cell_type": "code",
   "execution_count": 1222,
   "metadata": {
    "collapsed": false
   },
   "outputs": [
    {
     "data": {
      "text/plain": [
       "5.7402255447616257"
      ]
     },
     "execution_count": 1222,
     "metadata": {},
     "output_type": "execute_result"
    }
   ],
   "source": [
    "np.mean(np.abs(m.predict(X_test)[0] - Y_test))"
   ]
  },
  {
   "cell_type": "code",
   "execution_count": 1262,
   "metadata": {
    "collapsed": false
   },
   "outputs": [],
   "source": [
    "X = [gs_c.data.reshape(samples, dims)[:n, :] for _ in range(dims)]\n",
    "Y = [uks_regrid_c.data.reshape(samples, dims, 1)[:n, i] for i in range(dims)]\n",
    "\n",
    "tst = gs_c.data.reshape(samples, dims)[n:]\n",
    "X_test = np.ma.MaskedArray([np.hstack((tst, np.ones((tst.shape[0], 1))*i)) for i in range(dims)]).reshape(dims*(samples - n), -1)\n",
    "Y_test = np.ma.MaskedArray([uks_regrid_c.data.reshape(samples, dims, 1)[n:, i] for i in range(dims)]).squeeze(axis=-1)"
   ]
  },
  {
   "cell_type": "code",
   "execution_count": 1263,
   "metadata": {
    "collapsed": true
   },
   "outputs": [],
   "source": [
    "k = GPy.kern.RBF(input_dim=6, variance=1., lengthscale=1.)\n",
    "icm = GPy.util.multioutput.ICM(input_dim=6, num_outputs=6, kernel=k)\n",
    "m = GPy.models.GPCoregionalizedRegression(X, Y, kernel=icm)"
   ]
  },
  {
   "cell_type": "code",
   "execution_count": 1278,
   "metadata": {
    "collapsed": false
   },
   "outputs": [],
   "source": [
    "K1 = GPy.kern.Bias(6)\n",
    "K2 = GPy.kern.RBF(6)\n",
    "K3 = GPy.kern.RBF(6)\n",
    "K4 = GPy.kern.RBF(6)\n",
    "lcm = GPy.util.multioutput.LCM(input_dim=6,num_outputs=6,kernels_list=[K1,K2,K3,K4])\n",
    "\n",
    "m = GPy.models.GPCoregionalizedRegression(X, Y, kernel=lcm)\n",
    "# m['.*ICM.*var'].unconstrain()\n",
    "# m['.*ICM0.*var'].constrain_fixed(1.)\n",
    "# m['.*ICM0.*W'].constrain_fixed(0)\n",
    "# m['.*ICM1.*var'].constrain_fixed(1.)\n",
    "# m['.*ICM1.*W'].constrain_fixed(0)\n",
    "# m['.*ICM2.*var'].constrain_fixed(1.)\n",
    "# m['.*ICM2.*W'].constrain_fixed(0.)\n",
    "# m['.*ICM3.*var'].constrain_fixed(1.)\n",
    "# m['.*ICM3.*W'].constrain_fixed(0.)"
   ]
  },
  {
   "cell_type": "code",
   "execution_count": 1279,
   "metadata": {
    "collapsed": false
   },
   "outputs": [
    {
     "name": "stdout",
     "output_type": "stream",
     "text": [
      "Optimization restart 1/2, f = 4686.7128933439\n"
     ]
    },
    {
     "ename": "LinAlgError",
     "evalue": "not pd: non-positive diagonal elements",
     "output_type": "error",
     "traceback": [
      "\u001b[0;31m---------------------------------------------------------------------------\u001b[0m",
      "\u001b[0;31mLinAlgError\u001b[0m                               Traceback (most recent call last)",
      "\u001b[0;32m<ipython-input-1279-16f79a1a8805>\u001b[0m in \u001b[0;36m<module>\u001b[0;34m()\u001b[0m\n\u001b[0;32m----> 1\u001b[0;31m \u001b[0mm\u001b[0m\u001b[0;34m.\u001b[0m\u001b[0moptimize_restarts\u001b[0m\u001b[0;34m(\u001b[0m\u001b[0;36m2\u001b[0m\u001b[0;34m,\u001b[0m \u001b[0mverbose\u001b[0m\u001b[0;34m=\u001b[0m\u001b[0;32mTrue\u001b[0m\u001b[0;34m)\u001b[0m\u001b[0;34m\u001b[0m\u001b[0m\n\u001b[0m",
      "\u001b[0;32m/opt/conda/lib/python3.5/site-packages/paramz/model.py\u001b[0m in \u001b[0;36moptimize_restarts\u001b[0;34m(self, num_restarts, robust, verbose, parallel, num_processes, **kwargs)\u001b[0m\n\u001b[1;32m    178\u001b[0m                     \u001b[0mprint\u001b[0m\u001b[0;34m(\u001b[0m\u001b[0;34m(\u001b[0m\u001b[0;34m\"Warning - optimization restart {0}/{1} failed\"\u001b[0m\u001b[0;34m.\u001b[0m\u001b[0mformat\u001b[0m\u001b[0;34m(\u001b[0m\u001b[0mi\u001b[0m \u001b[0;34m+\u001b[0m \u001b[0;36m1\u001b[0m\u001b[0;34m,\u001b[0m \u001b[0mnum_restarts\u001b[0m\u001b[0;34m)\u001b[0m\u001b[0;34m)\u001b[0m\u001b[0;34m)\u001b[0m\u001b[0;34m\u001b[0m\u001b[0m\n\u001b[1;32m    179\u001b[0m                 \u001b[0;32melse\u001b[0m\u001b[0;34m:\u001b[0m\u001b[0;34m\u001b[0m\u001b[0m\n\u001b[0;32m--> 180\u001b[0;31m                     \u001b[0;32mraise\u001b[0m \u001b[0me\u001b[0m\u001b[0;34m\u001b[0m\u001b[0m\n\u001b[0m\u001b[1;32m    181\u001b[0m \u001b[0;34m\u001b[0m\u001b[0m\n\u001b[1;32m    182\u001b[0m         \u001b[0;32mif\u001b[0m \u001b[0mlen\u001b[0m\u001b[0;34m(\u001b[0m\u001b[0mself\u001b[0m\u001b[0;34m.\u001b[0m\u001b[0moptimization_runs\u001b[0m\u001b[0;34m)\u001b[0m\u001b[0;34m:\u001b[0m\u001b[0;34m\u001b[0m\u001b[0m\n",
      "\u001b[0;32m/opt/conda/lib/python3.5/site-packages/paramz/model.py\u001b[0m in \u001b[0;36moptimize_restarts\u001b[0;34m(self, num_restarts, robust, verbose, parallel, num_processes, **kwargs)\u001b[0m\n\u001b[1;32m    167\u001b[0m             \u001b[0;32mtry\u001b[0m\u001b[0;34m:\u001b[0m\u001b[0;34m\u001b[0m\u001b[0m\n\u001b[1;32m    168\u001b[0m                 \u001b[0;32mif\u001b[0m \u001b[0;32mnot\u001b[0m \u001b[0mparallel\u001b[0m\u001b[0;34m:\u001b[0m\u001b[0;34m\u001b[0m\u001b[0m\n\u001b[0;32m--> 169\u001b[0;31m                     \u001b[0;32mif\u001b[0m \u001b[0mi\u001b[0m\u001b[0;34m>\u001b[0m\u001b[0;36m0\u001b[0m\u001b[0;34m:\u001b[0m \u001b[0mself\u001b[0m\u001b[0;34m.\u001b[0m\u001b[0mrandomize\u001b[0m\u001b[0;34m(\u001b[0m\u001b[0;34m)\u001b[0m\u001b[0;34m\u001b[0m\u001b[0m\n\u001b[0m\u001b[1;32m    170\u001b[0m                     \u001b[0mself\u001b[0m\u001b[0;34m.\u001b[0m\u001b[0moptimize\u001b[0m\u001b[0;34m(\u001b[0m\u001b[0;34m**\u001b[0m\u001b[0mkwargs\u001b[0m\u001b[0;34m)\u001b[0m\u001b[0;34m\u001b[0m\u001b[0m\n\u001b[1;32m    171\u001b[0m                 \u001b[0;32melse\u001b[0m\u001b[0;34m:\u001b[0m\u001b[0;31m#pragma: no cover\u001b[0m\u001b[0;34m\u001b[0m\u001b[0m\n",
      "\u001b[0;32m/opt/conda/lib/python3.5/site-packages/GPy/core/__init__.py\u001b[0m in \u001b[0;36mrandomize\u001b[0;34m(self, rand_gen, *args, **kwargs)\u001b[0m\n\u001b[1;32m     41\u001b[0m     \u001b[0munfixlist\u001b[0m\u001b[0;34m[\u001b[0m\u001b[0mself\u001b[0m\u001b[0;34m.\u001b[0m\u001b[0mconstraints\u001b[0m\u001b[0;34m[\u001b[0m\u001b[0m__fixed__\u001b[0m\u001b[0;34m]\u001b[0m\u001b[0;34m]\u001b[0m \u001b[0;34m=\u001b[0m \u001b[0;32mFalse\u001b[0m\u001b[0;34m\u001b[0m\u001b[0m\n\u001b[1;32m     42\u001b[0m     \u001b[0mself\u001b[0m\u001b[0;34m.\u001b[0m\u001b[0mparam_array\u001b[0m\u001b[0;34m.\u001b[0m\u001b[0mflat\u001b[0m\u001b[0;34m[\u001b[0m\u001b[0munfixlist\u001b[0m\u001b[0;34m]\u001b[0m \u001b[0;34m=\u001b[0m \u001b[0mx\u001b[0m\u001b[0;34m.\u001b[0m\u001b[0mview\u001b[0m\u001b[0;34m(\u001b[0m\u001b[0mnp\u001b[0m\u001b[0;34m.\u001b[0m\u001b[0mndarray\u001b[0m\u001b[0;34m)\u001b[0m\u001b[0;34m.\u001b[0m\u001b[0mravel\u001b[0m\u001b[0;34m(\u001b[0m\u001b[0;34m)\u001b[0m\u001b[0;34m[\u001b[0m\u001b[0munfixlist\u001b[0m\u001b[0;34m]\u001b[0m\u001b[0;34m\u001b[0m\u001b[0m\n\u001b[0;32m---> 43\u001b[0;31m     \u001b[0mself\u001b[0m\u001b[0;34m.\u001b[0m\u001b[0mupdate_model\u001b[0m\u001b[0;34m(\u001b[0m\u001b[0mupdates\u001b[0m\u001b[0;34m)\u001b[0m\u001b[0;34m\u001b[0m\u001b[0m\n\u001b[0m\u001b[1;32m     44\u001b[0m \u001b[0;34m\u001b[0m\u001b[0m\n\u001b[1;32m     45\u001b[0m \u001b[0mModel\u001b[0m\u001b[0;34m.\u001b[0m\u001b[0mrandomize\u001b[0m \u001b[0;34m=\u001b[0m \u001b[0mrandomize\u001b[0m\u001b[0;34m\u001b[0m\u001b[0m\n",
      "\u001b[0;32m/opt/conda/lib/python3.5/site-packages/paramz/core/updateable.py\u001b[0m in \u001b[0;36mupdate_model\u001b[0;34m(self, updates)\u001b[0m\n\u001b[1;32m     58\u001b[0m             \u001b[0ms\u001b[0m\u001b[0;34m.\u001b[0m\u001b[0m_update_on\u001b[0m \u001b[0;34m=\u001b[0m \u001b[0mupdates\u001b[0m\u001b[0;34m\u001b[0m\u001b[0m\n\u001b[1;32m     59\u001b[0m         \u001b[0mp\u001b[0m\u001b[0;34m.\u001b[0m\u001b[0mtraverse\u001b[0m\u001b[0;34m(\u001b[0m\u001b[0mturn_updates\u001b[0m\u001b[0;34m)\u001b[0m\u001b[0;34m\u001b[0m\u001b[0m\n\u001b[0;32m---> 60\u001b[0;31m         \u001b[0mself\u001b[0m\u001b[0;34m.\u001b[0m\u001b[0mtrigger_update\u001b[0m\u001b[0;34m(\u001b[0m\u001b[0;34m)\u001b[0m\u001b[0;34m\u001b[0m\u001b[0m\n\u001b[0m\u001b[1;32m     61\u001b[0m \u001b[0;34m\u001b[0m\u001b[0m\n\u001b[1;32m     62\u001b[0m     \u001b[0;32mdef\u001b[0m \u001b[0mtoggle_update\u001b[0m\u001b[0;34m(\u001b[0m\u001b[0mself\u001b[0m\u001b[0;34m)\u001b[0m\u001b[0;34m:\u001b[0m\u001b[0;34m\u001b[0m\u001b[0m\n",
      "\u001b[0;32m/opt/conda/lib/python3.5/site-packages/paramz/core/updateable.py\u001b[0m in \u001b[0;36mtrigger_update\u001b[0;34m(self, trigger_parent)\u001b[0m\n\u001b[1;32m     77\u001b[0m             \u001b[0;31m#print \"Warning: updates are off, updating the model will do nothing\"\u001b[0m\u001b[0;34m\u001b[0m\u001b[0;34m\u001b[0m\u001b[0m\n\u001b[1;32m     78\u001b[0m             \u001b[0;32mreturn\u001b[0m\u001b[0;34m\u001b[0m\u001b[0m\n\u001b[0;32m---> 79\u001b[0;31m         \u001b[0mself\u001b[0m\u001b[0;34m.\u001b[0m\u001b[0m_trigger_params_changed\u001b[0m\u001b[0;34m(\u001b[0m\u001b[0mtrigger_parent\u001b[0m\u001b[0;34m)\u001b[0m\u001b[0;34m\u001b[0m\u001b[0m\n\u001b[0m",
      "\u001b[0;32m/opt/conda/lib/python3.5/site-packages/paramz/core/parameter_core.py\u001b[0m in \u001b[0;36m_trigger_params_changed\u001b[0;34m(self, trigger_parent)\u001b[0m\n\u001b[1;32m    126\u001b[0m         \"\"\"\n\u001b[1;32m    127\u001b[0m         \u001b[0;34m[\u001b[0m\u001b[0mp\u001b[0m\u001b[0;34m.\u001b[0m\u001b[0m_trigger_params_changed\u001b[0m\u001b[0;34m(\u001b[0m\u001b[0mtrigger_parent\u001b[0m\u001b[0;34m=\u001b[0m\u001b[0;32mFalse\u001b[0m\u001b[0;34m)\u001b[0m \u001b[0;32mfor\u001b[0m \u001b[0mp\u001b[0m \u001b[0;32min\u001b[0m \u001b[0mself\u001b[0m\u001b[0;34m.\u001b[0m\u001b[0mparameters\u001b[0m \u001b[0;32mif\u001b[0m \u001b[0;32mnot\u001b[0m \u001b[0mp\u001b[0m\u001b[0;34m.\u001b[0m\u001b[0mis_fixed\u001b[0m\u001b[0;34m]\u001b[0m\u001b[0;34m\u001b[0m\u001b[0m\n\u001b[0;32m--> 128\u001b[0;31m         \u001b[0mself\u001b[0m\u001b[0;34m.\u001b[0m\u001b[0mnotify_observers\u001b[0m\u001b[0;34m(\u001b[0m\u001b[0;32mNone\u001b[0m\u001b[0;34m,\u001b[0m \u001b[0;32mNone\u001b[0m \u001b[0;32mif\u001b[0m \u001b[0mtrigger_parent\u001b[0m \u001b[0;32melse\u001b[0m \u001b[0;34m-\u001b[0m\u001b[0mnp\u001b[0m\u001b[0;34m.\u001b[0m\u001b[0minf\u001b[0m\u001b[0;34m)\u001b[0m\u001b[0;34m\u001b[0m\u001b[0m\n\u001b[0m\u001b[1;32m    129\u001b[0m \u001b[0;34m\u001b[0m\u001b[0m\n\u001b[1;32m    130\u001b[0m     \u001b[0;32mdef\u001b[0m \u001b[0m_size_transformed\u001b[0m\u001b[0;34m(\u001b[0m\u001b[0mself\u001b[0m\u001b[0;34m)\u001b[0m\u001b[0;34m:\u001b[0m\u001b[0;34m\u001b[0m\u001b[0m\n",
      "\u001b[0;32m/opt/conda/lib/python3.5/site-packages/paramz/core/observable.py\u001b[0m in \u001b[0;36mnotify_observers\u001b[0;34m(self, which, min_priority)\u001b[0m\n\u001b[1;32m     89\u001b[0m                 \u001b[0mwhich\u001b[0m \u001b[0;34m=\u001b[0m \u001b[0mself\u001b[0m\u001b[0;34m\u001b[0m\u001b[0m\n\u001b[1;32m     90\u001b[0m             \u001b[0;32mif\u001b[0m \u001b[0mmin_priority\u001b[0m \u001b[0;32mis\u001b[0m \u001b[0;32mNone\u001b[0m\u001b[0;34m:\u001b[0m\u001b[0;34m\u001b[0m\u001b[0m\n\u001b[0;32m---> 91\u001b[0;31m                 \u001b[0;34m[\u001b[0m\u001b[0mcallble\u001b[0m\u001b[0;34m(\u001b[0m\u001b[0mself\u001b[0m\u001b[0;34m,\u001b[0m \u001b[0mwhich\u001b[0m\u001b[0;34m=\u001b[0m\u001b[0mwhich\u001b[0m\u001b[0;34m)\u001b[0m \u001b[0;32mfor\u001b[0m \u001b[0m_\u001b[0m\u001b[0;34m,\u001b[0m \u001b[0m_\u001b[0m\u001b[0;34m,\u001b[0m \u001b[0mcallble\u001b[0m \u001b[0;32min\u001b[0m \u001b[0mself\u001b[0m\u001b[0;34m.\u001b[0m\u001b[0mobservers\u001b[0m\u001b[0;34m]\u001b[0m\u001b[0;34m\u001b[0m\u001b[0m\n\u001b[0m\u001b[1;32m     92\u001b[0m             \u001b[0;32melse\u001b[0m\u001b[0;34m:\u001b[0m\u001b[0;34m\u001b[0m\u001b[0m\n\u001b[1;32m     93\u001b[0m                 \u001b[0;32mfor\u001b[0m \u001b[0mp\u001b[0m\u001b[0;34m,\u001b[0m \u001b[0m_\u001b[0m\u001b[0;34m,\u001b[0m \u001b[0mcallble\u001b[0m \u001b[0;32min\u001b[0m \u001b[0mself\u001b[0m\u001b[0;34m.\u001b[0m\u001b[0mobservers\u001b[0m\u001b[0;34m:\u001b[0m\u001b[0;34m\u001b[0m\u001b[0m\n",
      "\u001b[0;32m/opt/conda/lib/python3.5/site-packages/paramz/core/observable.py\u001b[0m in \u001b[0;36m<listcomp>\u001b[0;34m(.0)\u001b[0m\n\u001b[1;32m     89\u001b[0m                 \u001b[0mwhich\u001b[0m \u001b[0;34m=\u001b[0m \u001b[0mself\u001b[0m\u001b[0;34m\u001b[0m\u001b[0m\n\u001b[1;32m     90\u001b[0m             \u001b[0;32mif\u001b[0m \u001b[0mmin_priority\u001b[0m \u001b[0;32mis\u001b[0m \u001b[0;32mNone\u001b[0m\u001b[0;34m:\u001b[0m\u001b[0;34m\u001b[0m\u001b[0m\n\u001b[0;32m---> 91\u001b[0;31m                 \u001b[0;34m[\u001b[0m\u001b[0mcallble\u001b[0m\u001b[0;34m(\u001b[0m\u001b[0mself\u001b[0m\u001b[0;34m,\u001b[0m \u001b[0mwhich\u001b[0m\u001b[0;34m=\u001b[0m\u001b[0mwhich\u001b[0m\u001b[0;34m)\u001b[0m \u001b[0;32mfor\u001b[0m \u001b[0m_\u001b[0m\u001b[0;34m,\u001b[0m \u001b[0m_\u001b[0m\u001b[0;34m,\u001b[0m \u001b[0mcallble\u001b[0m \u001b[0;32min\u001b[0m \u001b[0mself\u001b[0m\u001b[0;34m.\u001b[0m\u001b[0mobservers\u001b[0m\u001b[0;34m]\u001b[0m\u001b[0;34m\u001b[0m\u001b[0m\n\u001b[0m\u001b[1;32m     92\u001b[0m             \u001b[0;32melse\u001b[0m\u001b[0;34m:\u001b[0m\u001b[0;34m\u001b[0m\u001b[0m\n\u001b[1;32m     93\u001b[0m                 \u001b[0;32mfor\u001b[0m \u001b[0mp\u001b[0m\u001b[0;34m,\u001b[0m \u001b[0m_\u001b[0m\u001b[0;34m,\u001b[0m \u001b[0mcallble\u001b[0m \u001b[0;32min\u001b[0m \u001b[0mself\u001b[0m\u001b[0;34m.\u001b[0m\u001b[0mobservers\u001b[0m\u001b[0;34m:\u001b[0m\u001b[0;34m\u001b[0m\u001b[0m\n",
      "\u001b[0;32m/opt/conda/lib/python3.5/site-packages/paramz/core/parameter_core.py\u001b[0m in \u001b[0;36m_parameters_changed_notification\u001b[0;34m(self, me, which)\u001b[0m\n\u001b[1;32m    496\u001b[0m         \"\"\"\n\u001b[1;32m    497\u001b[0m         \u001b[0mself\u001b[0m\u001b[0;34m.\u001b[0m\u001b[0m_optimizer_copy_transformed\u001b[0m \u001b[0;34m=\u001b[0m \u001b[0;32mFalse\u001b[0m \u001b[0;31m# tells the optimizer array to update on next request\u001b[0m\u001b[0;34m\u001b[0m\u001b[0m\n\u001b[0;32m--> 498\u001b[0;31m         \u001b[0mself\u001b[0m\u001b[0;34m.\u001b[0m\u001b[0mparameters_changed\u001b[0m\u001b[0;34m(\u001b[0m\u001b[0;34m)\u001b[0m\u001b[0;34m\u001b[0m\u001b[0m\n\u001b[0m\u001b[1;32m    499\u001b[0m     \u001b[0;32mdef\u001b[0m \u001b[0m_pass_through_notify_observers\u001b[0m\u001b[0;34m(\u001b[0m\u001b[0mself\u001b[0m\u001b[0;34m,\u001b[0m \u001b[0mme\u001b[0m\u001b[0;34m,\u001b[0m \u001b[0mwhich\u001b[0m\u001b[0;34m=\u001b[0m\u001b[0;32mNone\u001b[0m\u001b[0;34m)\u001b[0m\u001b[0;34m:\u001b[0m\u001b[0;34m\u001b[0m\u001b[0m\n\u001b[1;32m    500\u001b[0m         \u001b[0mself\u001b[0m\u001b[0;34m.\u001b[0m\u001b[0mnotify_observers\u001b[0m\u001b[0;34m(\u001b[0m\u001b[0mwhich\u001b[0m\u001b[0;34m=\u001b[0m\u001b[0mwhich\u001b[0m\u001b[0;34m)\u001b[0m\u001b[0;34m\u001b[0m\u001b[0m\n",
      "\u001b[0;32m/opt/conda/lib/python3.5/site-packages/GPy/core/gp.py\u001b[0m in \u001b[0;36mparameters_changed\u001b[0;34m(self)\u001b[0m\n\u001b[1;32m    191\u001b[0m             \u001b[0mthis\u001b[0m \u001b[0mmethod\u001b[0m \u001b[0myourself\u001b[0m\u001b[0;34m,\u001b[0m \u001b[0mthere\u001b[0m \u001b[0mmay\u001b[0m \u001b[0mbe\u001b[0m \u001b[0munexpected\u001b[0m \u001b[0mconsequences\u001b[0m\u001b[0;34m.\u001b[0m\u001b[0;34m\u001b[0m\u001b[0m\n\u001b[1;32m    192\u001b[0m         \"\"\"\n\u001b[0;32m--> 193\u001b[0;31m         \u001b[0mself\u001b[0m\u001b[0;34m.\u001b[0m\u001b[0mposterior\u001b[0m\u001b[0;34m,\u001b[0m \u001b[0mself\u001b[0m\u001b[0;34m.\u001b[0m\u001b[0m_log_marginal_likelihood\u001b[0m\u001b[0;34m,\u001b[0m \u001b[0mself\u001b[0m\u001b[0;34m.\u001b[0m\u001b[0mgrad_dict\u001b[0m \u001b[0;34m=\u001b[0m \u001b[0mself\u001b[0m\u001b[0;34m.\u001b[0m\u001b[0minference_method\u001b[0m\u001b[0;34m.\u001b[0m\u001b[0minference\u001b[0m\u001b[0;34m(\u001b[0m\u001b[0mself\u001b[0m\u001b[0;34m.\u001b[0m\u001b[0mkern\u001b[0m\u001b[0;34m,\u001b[0m \u001b[0mself\u001b[0m\u001b[0;34m.\u001b[0m\u001b[0mX\u001b[0m\u001b[0;34m,\u001b[0m \u001b[0mself\u001b[0m\u001b[0;34m.\u001b[0m\u001b[0mlikelihood\u001b[0m\u001b[0;34m,\u001b[0m \u001b[0mself\u001b[0m\u001b[0;34m.\u001b[0m\u001b[0mY_normalized\u001b[0m\u001b[0;34m,\u001b[0m \u001b[0mself\u001b[0m\u001b[0;34m.\u001b[0m\u001b[0mmean_function\u001b[0m\u001b[0;34m,\u001b[0m \u001b[0mself\u001b[0m\u001b[0;34m.\u001b[0m\u001b[0mY_metadata\u001b[0m\u001b[0;34m)\u001b[0m\u001b[0;34m\u001b[0m\u001b[0m\n\u001b[0m\u001b[1;32m    194\u001b[0m         \u001b[0mself\u001b[0m\u001b[0;34m.\u001b[0m\u001b[0mlikelihood\u001b[0m\u001b[0;34m.\u001b[0m\u001b[0mupdate_gradients\u001b[0m\u001b[0;34m(\u001b[0m\u001b[0mself\u001b[0m\u001b[0;34m.\u001b[0m\u001b[0mgrad_dict\u001b[0m\u001b[0;34m[\u001b[0m\u001b[0;34m'dL_dthetaL'\u001b[0m\u001b[0;34m]\u001b[0m\u001b[0;34m)\u001b[0m\u001b[0;34m\u001b[0m\u001b[0m\n\u001b[1;32m    195\u001b[0m         \u001b[0mself\u001b[0m\u001b[0;34m.\u001b[0m\u001b[0mkern\u001b[0m\u001b[0;34m.\u001b[0m\u001b[0mupdate_gradients_full\u001b[0m\u001b[0;34m(\u001b[0m\u001b[0mself\u001b[0m\u001b[0;34m.\u001b[0m\u001b[0mgrad_dict\u001b[0m\u001b[0;34m[\u001b[0m\u001b[0;34m'dL_dK'\u001b[0m\u001b[0;34m]\u001b[0m\u001b[0;34m,\u001b[0m \u001b[0mself\u001b[0m\u001b[0;34m.\u001b[0m\u001b[0mX\u001b[0m\u001b[0;34m)\u001b[0m\u001b[0;34m\u001b[0m\u001b[0m\n",
      "\u001b[0;32m/opt/conda/lib/python3.5/site-packages/GPy/inference/latent_function_inference/exact_gaussian_inference.py\u001b[0m in \u001b[0;36minference\u001b[0;34m(self, kern, X, likelihood, Y, mean_function, Y_metadata, K, variance, Z_tilde)\u001b[0m\n\u001b[1;32m     43\u001b[0m         \u001b[0mdiag\u001b[0m\u001b[0;34m.\u001b[0m\u001b[0madd\u001b[0m\u001b[0;34m(\u001b[0m\u001b[0mKy\u001b[0m\u001b[0;34m,\u001b[0m \u001b[0mvariance\u001b[0m\u001b[0;34m+\u001b[0m\u001b[0;36m1e-8\u001b[0m\u001b[0;34m)\u001b[0m\u001b[0;34m\u001b[0m\u001b[0m\n\u001b[1;32m     44\u001b[0m \u001b[0;34m\u001b[0m\u001b[0m\n\u001b[0;32m---> 45\u001b[0;31m         \u001b[0mWi\u001b[0m\u001b[0;34m,\u001b[0m \u001b[0mLW\u001b[0m\u001b[0;34m,\u001b[0m \u001b[0mLWi\u001b[0m\u001b[0;34m,\u001b[0m \u001b[0mW_logdet\u001b[0m \u001b[0;34m=\u001b[0m \u001b[0mpdinv\u001b[0m\u001b[0;34m(\u001b[0m\u001b[0mKy\u001b[0m\u001b[0;34m)\u001b[0m\u001b[0;34m\u001b[0m\u001b[0m\n\u001b[0m\u001b[1;32m     46\u001b[0m \u001b[0;34m\u001b[0m\u001b[0m\n\u001b[1;32m     47\u001b[0m         \u001b[0malpha\u001b[0m\u001b[0;34m,\u001b[0m \u001b[0m_\u001b[0m \u001b[0;34m=\u001b[0m \u001b[0mdpotrs\u001b[0m\u001b[0;34m(\u001b[0m\u001b[0mLW\u001b[0m\u001b[0;34m,\u001b[0m \u001b[0mYYT_factor\u001b[0m\u001b[0;34m,\u001b[0m \u001b[0mlower\u001b[0m\u001b[0;34m=\u001b[0m\u001b[0;36m1\u001b[0m\u001b[0;34m)\u001b[0m\u001b[0;34m\u001b[0m\u001b[0m\n",
      "\u001b[0;32m/opt/conda/lib/python3.5/site-packages/GPy/util/linalg.py\u001b[0m in \u001b[0;36mpdinv\u001b[0;34m(A, *args)\u001b[0m\n\u001b[1;32m    206\u001b[0m \u001b[0;34m\u001b[0m\u001b[0m\n\u001b[1;32m    207\u001b[0m     \"\"\"\n\u001b[0;32m--> 208\u001b[0;31m     \u001b[0mL\u001b[0m \u001b[0;34m=\u001b[0m \u001b[0mjitchol\u001b[0m\u001b[0;34m(\u001b[0m\u001b[0mA\u001b[0m\u001b[0;34m,\u001b[0m \u001b[0;34m*\u001b[0m\u001b[0margs\u001b[0m\u001b[0;34m)\u001b[0m\u001b[0;34m\u001b[0m\u001b[0m\n\u001b[0m\u001b[1;32m    209\u001b[0m     \u001b[0mlogdet\u001b[0m \u001b[0;34m=\u001b[0m \u001b[0;36m2.\u001b[0m\u001b[0;34m*\u001b[0m\u001b[0mnp\u001b[0m\u001b[0;34m.\u001b[0m\u001b[0msum\u001b[0m\u001b[0;34m(\u001b[0m\u001b[0mnp\u001b[0m\u001b[0;34m.\u001b[0m\u001b[0mlog\u001b[0m\u001b[0;34m(\u001b[0m\u001b[0mnp\u001b[0m\u001b[0;34m.\u001b[0m\u001b[0mdiag\u001b[0m\u001b[0;34m(\u001b[0m\u001b[0mL\u001b[0m\u001b[0;34m)\u001b[0m\u001b[0;34m)\u001b[0m\u001b[0;34m)\u001b[0m\u001b[0;34m\u001b[0m\u001b[0m\n\u001b[1;32m    210\u001b[0m     \u001b[0mLi\u001b[0m \u001b[0;34m=\u001b[0m \u001b[0mdtrtri\u001b[0m\u001b[0;34m(\u001b[0m\u001b[0mL\u001b[0m\u001b[0;34m)\u001b[0m\u001b[0;34m\u001b[0m\u001b[0m\n",
      "\u001b[0;32m/opt/conda/lib/python3.5/site-packages/GPy/util/linalg.py\u001b[0m in \u001b[0;36mjitchol\u001b[0;34m(A, maxtries)\u001b[0m\n\u001b[1;32m     63\u001b[0m         \u001b[0mdiagA\u001b[0m \u001b[0;34m=\u001b[0m \u001b[0mnp\u001b[0m\u001b[0;34m.\u001b[0m\u001b[0mdiag\u001b[0m\u001b[0;34m(\u001b[0m\u001b[0mA\u001b[0m\u001b[0;34m)\u001b[0m\u001b[0;34m\u001b[0m\u001b[0m\n\u001b[1;32m     64\u001b[0m         \u001b[0;32mif\u001b[0m \u001b[0mnp\u001b[0m\u001b[0;34m.\u001b[0m\u001b[0many\u001b[0m\u001b[0;34m(\u001b[0m\u001b[0mdiagA\u001b[0m \u001b[0;34m<=\u001b[0m \u001b[0;36m0.\u001b[0m\u001b[0;34m)\u001b[0m\u001b[0;34m:\u001b[0m\u001b[0;34m\u001b[0m\u001b[0m\n\u001b[0;32m---> 65\u001b[0;31m             \u001b[0;32mraise\u001b[0m \u001b[0mlinalg\u001b[0m\u001b[0;34m.\u001b[0m\u001b[0mLinAlgError\u001b[0m\u001b[0;34m(\u001b[0m\u001b[0;34m\"not pd: non-positive diagonal elements\"\u001b[0m\u001b[0;34m)\u001b[0m\u001b[0;34m\u001b[0m\u001b[0m\n\u001b[0m\u001b[1;32m     66\u001b[0m         \u001b[0mjitter\u001b[0m \u001b[0;34m=\u001b[0m \u001b[0mdiagA\u001b[0m\u001b[0;34m.\u001b[0m\u001b[0mmean\u001b[0m\u001b[0;34m(\u001b[0m\u001b[0;34m)\u001b[0m \u001b[0;34m*\u001b[0m \u001b[0;36m1e-6\u001b[0m\u001b[0;34m\u001b[0m\u001b[0m\n\u001b[1;32m     67\u001b[0m         \u001b[0mnum_tries\u001b[0m \u001b[0;34m=\u001b[0m \u001b[0;36m1\u001b[0m\u001b[0;34m\u001b[0m\u001b[0m\n",
      "\u001b[0;31mLinAlgError\u001b[0m: not pd: non-positive diagonal elements"
     ]
    }
   ],
   "source": [
    "m.optimize_restarts(2, verbose=True)"
   ]
  },
  {
   "cell_type": "code",
   "execution_count": 1280,
   "metadata": {
    "collapsed": false
   },
   "outputs": [
    {
     "data": {
      "text/plain": [
       "4686.7128933439"
      ]
     },
     "execution_count": 1280,
     "metadata": {},
     "output_type": "execute_result"
    }
   ],
   "source": [
    "m.objective_function()"
   ]
  },
  {
   "cell_type": "code",
   "execution_count": 1281,
   "metadata": {
    "collapsed": false
   },
   "outputs": [
    {
     "data": {
      "text/plain": [
       "array([  2.86911126e-04,   6.61708857e-03,  -1.67652439e-03,\n",
       "         6.18362243e-03,  -4.62322547e-03,  -5.39409782e-03,\n",
       "        -2.95260463e-04,  -4.36728310e+01,  -8.76092889e+00,\n",
       "        -7.80432345e+01,  -4.57607064e+01,  -4.13048613e+01,\n",
       "        -1.40137910e+01,  -6.67487719e-05,  -1.56518683e-03,\n",
       "        -2.28019107e-03,  -1.82689432e-03,   9.63527415e-04,\n",
       "         1.57371762e-03,  -1.76810179e-03,   3.25339698e-04,\n",
       "        -1.23918920e+00,  -9.62720781e-04,  -3.25597973e+00,\n",
       "        -2.15824215e+00,  -4.89983075e-02,  -6.92473617e-03,\n",
       "        -5.60773071e-04,  -0.00000000e+00,   3.24938604e-03,\n",
       "        -2.73540954e-04,   2.15879232e-03,  -1.06570176e-03,\n",
       "         1.75390780e-04,  -1.74724587e-03,  -3.63004214e-03,\n",
       "        -2.15282346e-03,  -1.46698538e-03,  -3.93722929e-01,\n",
       "         1.50357384e-03,   2.41069521e-03,   1.65310207e-03,\n",
       "        -0.00000000e+00,   2.51790037e-05,   1.92654739e-03,\n",
       "         2.91923833e-03,  -8.70089487e-04,  -2.08541439e-04,\n",
       "        -3.15647017e-03,  -1.27937840e-03,  -7.58744867e-04,\n",
       "        -5.17026894e-04,  -1.38764398e-01,   5.29922195e-04,\n",
       "         8.49629640e-04,  -7.74644506e-04,  -4.59408679e-04,\n",
       "        -3.13052059e-04,  -8.40197696e-02,   3.20859971e-04,\n",
       "         5.14438052e-04])"
      ]
     },
     "execution_count": 1281,
     "metadata": {},
     "output_type": "execute_result"
    }
   ],
   "source": [
    "m.gradient"
   ]
  },
  {
   "cell_type": "code",
   "execution_count": 1282,
   "metadata": {
    "collapsed": false
   },
   "outputs": [
    {
     "data": {
      "text/plain": [
       "masked_array(data =\n",
       " [[-89.67085771928515 -97.5423673941998 -94.74978997223428 -93.7770664155833\n",
       "  -78.02706641085086 -96.27706593617557 -50.901474438414965\n",
       "  -95.94227797379924 -86.8520980836926 -96.6550260252609 -97.15233029247993\n",
       "  -96.15102673158675 -81.02798997681158 -94.61178711767708\n",
       "  -93.51606496933228 -80.02622357388663 -74.15197770967121 -74.28014506691\n",
       "  -84.76201975309984 -96.40206641089057 -96.02032379640833\n",
       "  -97.27749553867915 -98.40003141134574 -90.78363757265609\n",
       "  -92.26641216127625 -88.5415363850002 -97.02544659473627\n",
       "  -94.27804737822787 -94.90208684871799 -97.03305057126579\n",
       "  -68.29133735135767 -97.02682593636148 -97.27791552908269\n",
       "  -98.21910634730811 -99.03303782471775 -85.5549908569631\n",
       "  -89.15526026076665 -97.40274304426175 -92.27705777378745\n",
       "  -97.52119415066294 -87.53948087919133 -85.04558546114741\n",
       "  -83.7666734434246 -95.41352555566212 -92.22038091101288\n",
       "  -92.93731015068269 -98.77388839670226 -99.1520672092395\n",
       "  -94.30100295184275 -95.20056221188858 -97.15298751790904\n",
       "  -96.27706590230281 -- -- -- -- -- -- -- -- -- -- -- -- -- -- -- -- -- --\n",
       "  -- -- -- -- -- -- -- -- -- -- -- -- -- -- -- -- -- -- -- -- -- -- -- --\n",
       "  -- -- -- -- -- --]\n",
       " [-93.5692625712893 -93.52747031465562 -89.76899517743144\n",
       "  -96.88649088243739 -98.13649088522122 -93.88649138502905\n",
       "  -87.63690857132576 -96.01324097998952 -96.41875849253903\n",
       "  -97.13807710289895 -96.63602784117201 -98.1363738805158\n",
       "  -88.01071605190963 -91.14398903355605 -87.89265405062088\n",
       "  -94.38727841730713 -93.26125775527436 -86.52526503415604\n",
       "  -92.89267105860175 -86.88649088517992 -98.49788908944622\n",
       "  -95.6373575989141 -98.13353369605353 -95.56539032415137\n",
       "  -98.21808752507492 -90.50177752415203 -95.51023092841227\n",
       "  -95.24628648479535 -94.88649050031516 -96.37446895961708\n",
       "  -71.25964243973205 -96.89116487390521 -96.38472392591362\n",
       "  -98.83583228042156 -97.12821977533713 -84.88315772964867\n",
       "  -92.2566499984886 -86.01255268597467 -96.01149231761757\n",
       "  -98.51268144324003 -96.76518627531051 -86.01337762892706\n",
       "  -78.13270257097012 -97.1425695336556 -84.26690192916278 -95.5812635463191\n",
       "  -97.25656701690141 -98.8864906565026 -85.93665404902356\n",
       "  -93.29226289444917 -88.1356628323939 -94.8864917076137 -- -- -- -- -- --\n",
       "  -- -- -- -- -- -- -- -- -- -- -- -- -- -- -- -- -- -- -- -- -- -- -- --\n",
       "  -- -- -- -- -- -- -- -- -- -- -- -- -- -- -- -- -- --]\n",
       " [-96.61234628811961 -69.47621963118719 -97.76013629708794\n",
       "  -82.99941791811169 -84.24941792290088 -84.49941824377 -79.3746005591235\n",
       "  -94.87399077791332 -98.97848062321867 -99.12203777775403\n",
       "  -96.4994503884817 -97.0000905427224 -75.62386428833153 -86.59211282634284\n",
       "  -85.2498367789782 -93.99972844580968 -80.24954652857261\n",
       "  -95.08237779499038 -91.4765493735887 -95.24941792286272\n",
       "  -98.27384870076789 -91.99894597219249 -98.62721578220638\n",
       "  -78.83190687162099 -89.56119897823656 -91.87272837299086\n",
       "  -98.87549194978362 -97.52302110677566 -98.37440132424433\n",
       "  -98.50583759092795 -65.99159314563502 -97.37165886846206\n",
       "  -97.74796006554187 -93.40842502720785 -97.87442954949482\n",
       "  -82.3600603689176 -93.37473268192238 -92.87345666534594\n",
       "  -96.74942458305196 -97.25113604782737 -70.36712094771221\n",
       "  -91.98789654755294 -77.50884227848444 -97.11533886673452\n",
       "  -84.7722641332606 -99.0741296746811 -97.12735551852158 -99.1244173058869\n",
       "  -82.75018863330665 -82.2873123762316 -93.62435471283233\n",
       "  -91.24941819790043 -- -- -- -- -- -- -- -- -- -- -- -- -- -- -- -- -- --\n",
       "  -- -- -- -- -- -- -- -- -- -- -- -- -- -- -- -- -- -- -- -- -- -- -- --\n",
       "  -- -- -- -- -- --]\n",
       " [-89.16760795116068 -80.27744207403376 -98.34384709748966\n",
       "  -92.37426756309856 -94.49926755600626 -93.49926694829027\n",
       "  -93.87420992659146 -95.66753273026023 -95.84666856632296\n",
       "  -96.75139322280148 -97.37447587906443 -96.62304941162607\n",
       "  -77.74933085695514 -90.76228398745675 -84.61298725868443\n",
       "  -82.74873488733562 -92.37390711504378 -68.21416731956181\n",
       "  -86.98530769004819 -90.74926755605004 -95.84735568248769\n",
       "  -91.12435425933712 -99.62416425814472 -94.27775442212946\n",
       "  -81.47036054971275 -90.63591573016544 -83.8730886292606\n",
       "  -90.77064718014121 -87.62428854613256 -91.87046121045294\n",
       "  -69.26229902749942 -92.74815276512248 -96.87539386393657\n",
       "  -91.85554965048966 -99.25809888573718 -83.77476790102315\n",
       "  -97.00348698104966 -95.5001676045618 -97.12425806503212\n",
       "  -98.11828100667616 -97.63443613725686 -97.27159179128746\n",
       "  -87.11496454528617 -96.89090495069881 -96.57913743173648\n",
       "  -97.69011814846814 -96.7449094333629 -99.24926806997517 -88.2291190594288\n",
       "  -97.97507783431199 -77.87508867817262 -96.8742668915104 -- -- -- -- -- --\n",
       "  -- -- -- -- -- -- -- -- -- -- -- -- -- -- -- -- -- -- -- -- -- -- -- --\n",
       "  -- -- -- -- -- -- -- -- -- -- -- -- -- -- -- -- -- --]\n",
       " [-95.91256787024453 -85.54102336009154 -92.95855399491697\n",
       "  -90.18660946454486 -81.43660946920942 -97.43660973746738\n",
       "  -91.6871039103747 -94.23672226294518 -96.95634098311696\n",
       "  -88.05896567107587 -98.18648901798467 -97.43751900579433\n",
       "  -86.43626638207532 -84.92738736074067 -88.19300878189414\n",
       "  -91.56239798401766 -87.31184438303347 -87.97780575439437\n",
       "  -90.68315060433176 -95.68660946917798 -96.32260609258292\n",
       "  -99.93631654186555 -97.6872015378972 -98.0524343964477 -84.95484588879332\n",
       "  -94.7953801165902 -92.06333293374865 -93.34482957672293\n",
       "  -94.93659134639051 -95.0527791227943 -61.79908409041801\n",
       "  -98.56093589199642 -97.43535484067291 -84.24221705838985\n",
       "  -98.18221851793386 -91.16558809181252 -83.80865166022865\n",
       "  -86.68578530192093 -95.56161802090581 -91.56589718249238\n",
       "  -79.92696006366246 -96.66991650015969 -89.82344408154772\n",
       "  -96.92447514912716 -96.7336823092496 -89.32707720330113\n",
       "  -99.19012134326563 -98.43660881928014 -97.20792382450318\n",
       "  -85.18695501945916 -81.31108703789162 -90.56160955571521 -- -- -- -- --\n",
       "  -- -- -- -- -- -- -- -- -- -- -- -- -- -- -- -- -- -- -- -- -- -- -- --\n",
       "  -- -- -- -- -- -- -- -- -- -- -- -- -- -- -- -- -- -- --]\n",
       " [-81.91974300348514 -86.00312966359975 -96.27112281670912\n",
       "  -95.00537529479806 -84.25537529573917 -98.3803753420003 -96.2554158935782\n",
       "  -97.70587287956855 -90.66836985544134 -97.38056763571592\n",
       "  -97.1300251940103 -96.63091423379474 -81.75560131893458\n",
       "  -86.77109621614981 -85.38942266832886 -95.3804567681629\n",
       "  -97.13051960885157 -83.70022489798734 -99.91709839025012\n",
       "  -77.25537529574241 -99.38349493972963 -90.38058884642113\n",
       "  -98.50285186287253 -92.24701047991881 -77.48067615833993\n",
       "  -97.62527848690615 -77.25560000765232 -87.79277735383164\n",
       "  -88.63037070252119 -94.13366474513823 -69.37700837295961\n",
       "  -85.38173395363138 -96.7564944599981 -92.74297379291554\n",
       "  -97.24905537322523 -95.24506704556832 -91.37797881019925\n",
       "  -81.75527447097916 -98.75537740132597 -98.50931974008834\n",
       "  -95.87620808801843 -98.24681315856456 -97.88382984361401\n",
       "  -96.3747201331876 -97.78129264262235 -91.35345358716627 -96.6318552394356\n",
       "  -98.88037541915449 -88.3828002718478 -96.4359788615714 -99.62941570443398\n",
       "  -95.13037525346446 -- -- -- -- -- -- -- -- -- -- -- -- -- -- -- -- -- --\n",
       "  -- -- -- -- -- -- -- -- -- -- -- -- -- -- -- -- -- -- -- -- -- -- -- --\n",
       "  -- -- -- -- -- --]],\n",
       "             mask =\n",
       " [[False False False ...,  True  True  True]\n",
       " [False False False ...,  True  True  True]\n",
       " [False False False ...,  True  True  True]\n",
       " [False False False ...,  True  True  True]\n",
       " [False False False ...,  True  True  True]\n",
       " [False False False ...,  True  True  True]],\n",
       "       fill_value = 1e+20)"
      ]
     },
     "execution_count": 1282,
     "metadata": {},
     "output_type": "execute_result"
    }
   ],
   "source": [
    "(m.predict(np.array(X_test), include_likelihood=False)[0].reshape(-1, samples - n) - Y_test)"
   ]
  },
  {
   "cell_type": "code",
   "execution_count": 1283,
   "metadata": {
    "collapsed": false
   },
   "outputs": [
    {
     "data": {
      "text/plain": [
       "91.349018768983271"
      ]
     },
     "execution_count": 1283,
     "metadata": {},
     "output_type": "execute_result"
    }
   ],
   "source": [
    "np.mean(np.abs(m.predict(np.array(X_test), include_likelihood=False)[0].reshape(-1, samples - n) - Y_test))"
   ]
  },
  {
   "cell_type": "code",
   "execution_count": 1284,
   "metadata": {
    "collapsed": false
   },
   "outputs": [
    {
     "name": "stderr",
     "output_type": "stream",
     "text": [
      " /opt/conda/lib/python3.5/site-packages/GPy/likelihoods/gaussian.py:101: RuntimeWarning:invalid value encountered in sqrt\n"
     ]
    },
    {
     "data": {
      "text/plain": [
       "<matplotlib.axes._subplots.AxesSubplot at 0x7f064038cf28>"
      ]
     },
     "execution_count": 1284,
     "metadata": {},
     "output_type": "execute_result"
    },
    {
     "name": "stderr",
     "output_type": "stream",
     "text": [
      " /opt/conda/lib/python3.5/site-packages/matplotlib/figure.py:1744: UserWarning:This figure includes Axes that are not compatible with tight_layout, so its results might be incorrect.\n"
     ]
    },
    {
     "data": {
      "image/png": "[encoded data removed]",
      "text/plain": [
       "<matplotlib.figure.Figure at 0x7f06403f9c50>"
      ]
     },
     "metadata": {},
     "output_type": "display_data"
    }
   ],
   "source": [
    "m.plot(visible_dims=[2])"
   ]
  },
  {
   "cell_type": "code",
   "execution_count": 1285,
   "metadata": {
    "collapsed": false
   },
   "outputs": [
    {
     "name": "stderr",
     "output_type": "stream",
     "text": [
      " /opt/conda/lib/python3.5/site-packages/iris/coords.py:802: UserWarning:Coordinate 'longitude' is not bounded, guessing contiguous bounds.\n",
      " /opt/conda/lib/python3.5/site-packages/iris/coords.py:802: UserWarning:Coordinate 'latitude' is not bounded, guessing contiguous bounds.\n"
     ]
    },
    {
     "data": {
      "text/plain": [
       "<matplotlib.collections.QuadMesh at 0x7f06400b5518>"
      ]
     },
     "execution_count": 1285,
     "metadata": {},
     "output_type": "execute_result"
    },
    {
     "data": {
      "image/png": "[encoded data removed]",
      "text/plain": [
       "<matplotlib.figure.Figure at 0x7f0640487400>"
      ]
     },
     "metadata": {},
     "output_type": "display_data"
    },
    {
     "data": {
      "image/png": "[encoded data removed]",
      "text/plain": [
       "<matplotlib.figure.Figure at 0x7f064023dda0>"
      ]
     },
     "metadata": {},
     "output_type": "display_data"
    },
    {
     "data": {
      "image/png": "[encoded data removed]",
      "text/plain": [
       "<matplotlib.figure.Figure at 0x7f06404929b0>"
      ]
     },
     "metadata": {},
     "output_type": "display_data"
    }
   ],
   "source": [
    "i = 35\n",
    "tst = gs_c.data.reshape(samples, dims)[n + i]\n",
    "test = np.array([np.hstack((tst, np.ones((tst.shape[0]))*i)) for i in range(dims)]).reshape(dims, -1)\n",
    "res = m.predict(test, include_likelihood=False)[0]\n",
    "\n",
    "plt.figure(figsize=(3,2))\n",
    "qplt.pcolormesh(gs[n + i], cmap='viridis')\n",
    "plt.figure(figsize=(3,2))\n",
    "qplt.pcolormesh(uks_regrid[n + i], cmap='viridis')\n",
    "\n",
    "tmp = uks_regrid[n + i].copy()\n",
    "tmp.data = res.reshape(3,2)\n",
    "plt.figure(figsize=(3,2))\n",
    "qplt.pcolormesh(tmp, cmap='viridis')"
   ]
  },
  {
   "cell_type": "code",
   "execution_count": null,
   "metadata": {
    "collapsed": true
   },
   "outputs": [],
   "source": []
  }
 ],
 "metadata": {
  "kernelspec": {
   "display_name": "Python 3",
   "language": "python",
   "name": "python3"
  },
  "language_info": {
   "codemirror_mode": {
    "name": "ipython",
    "version": 3
   },
   "file_extension": ".py",
   "mimetype": "text/x-python",
   "name": "python",
   "nbconvert_exporter": "python",
   "pygments_lexer": "ipython3",
   "version": "3.5.2"
  }
 },
 "nbformat": 4,
 "nbformat_minor": 2
}
